{
 "cells": [
  {
   "cell_type": "markdown",
   "id": "d800359c",
   "metadata": {},
   "source": [
    "1. In the below elements which of them are values or an expression? \n",
    "eg:- values can be integer or string and expressions will be mathematical operators.\n",
    " * , 'hello' , -87.8 , - , / , + , 6"
   ]
  },
  {
   "cell_type": "markdown",
   "id": "3574dfc2",
   "metadata": {},
   "source": [
    "Ans : values = 'hello' , -87.8 , 6\n",
    "\n",
    "expression = * , - , / , +"
   ]
  },
  {
   "cell_type": "markdown",
   "id": "a3bad019",
   "metadata": {},
   "source": [
    "2. What is the difference between string and variable?"
   ]
  },
  {
   "cell_type": "markdown",
   "id": "847f6b10",
   "metadata": {},
   "source": [
    "Ans : Variable is a store of information, and a String is a type of information you would store in a Variable."
   ]
  },
  {
   "cell_type": "markdown",
   "id": "5ef1d722",
   "metadata": {},
   "source": [
    "3. Describe three different data types."
   ]
  },
  {
   "cell_type": "markdown",
   "id": "c18d2498",
   "metadata": {},
   "source": [
    "Ans : list = A collection of data in square brakets []. Ex: l = [1,2,5,\"hiten\",85.24,-98]\n",
    "\n",
    "    boolean(bool) = A truth value represent in yes/no or true/false or 0/1.\n",
    "    \n",
    "    string(str) = text between \"\"  becomes a string. Ex: s = \"Hiten_verma\",\"65\",\"95.65\""
   ]
  },
  {
   "cell_type": "markdown",
   "id": "06867f3d",
   "metadata": {},
   "source": [
    "4. What is an expression made up of? What do all expressions do?"
   ]
  },
  {
   "cell_type": "markdown",
   "id": "6207cbcd",
   "metadata": {},
   "source": [
    "Ans : Expression is made up of values, containers, and mathematical operators (operands), which are constructed according to the syntax of the language, that evaluates to a single value.\n",
    "\n",
    "Expression statements are used to compute and write a value, or to call a procedure."
   ]
  },
  {
   "cell_type": "markdown",
   "id": "657fcc6f",
   "metadata": {},
   "source": [
    "5. This assignment statements, like spam = 10. What is the difference between an\n",
    "expression and a statement?"
   ]
  },
  {
   "cell_type": "markdown",
   "id": "5ea8b61a",
   "metadata": {},
   "source": [
    "Ans : Expression is made up of values, containers, and mathematical operators (operands) and the statement is just like a command that a python interpreter executes like print"
   ]
  },
  {
   "cell_type": "markdown",
   "id": "18b8b6a8",
   "metadata": {},
   "source": [
    "6. After running the following code, what does the variable bacon contain?\n",
    "\n",
    "bacon = 22\n",
    "\n",
    "bacon + 1"
   ]
  },
  {
   "cell_type": "markdown",
   "id": "419ada15",
   "metadata": {},
   "source": [
    "Ans : it gives 23 after execution of code"
   ]
  },
  {
   "cell_type": "markdown",
   "id": "4fb1404d",
   "metadata": {},
   "source": [
    "7. What should the values of the following two terms be?\n",
    "\n",
    "'spam' + 'spamspam'\n",
    "\n",
    "'spam' * 3"
   ]
  },
  {
   "cell_type": "markdown",
   "id": "430f94f7",
   "metadata": {},
   "source": [
    "Ans : 'spamspamspam'"
   ]
  },
  {
   "cell_type": "markdown",
   "id": "59c29b0a",
   "metadata": {},
   "source": [
    "8. Why is eggs a valid variable name while 100 is invalid?"
   ]
  },
  {
   "cell_type": "markdown",
   "id": "513cb168",
   "metadata": {},
   "source": [
    "Ans: because we can't start giving variable an integer name. if we, we should begin with, a string-like alphabet name then integer. e100 or eggs100 is valid"
   ]
  },
  {
   "cell_type": "markdown",
   "id": "16a3e150",
   "metadata": {},
   "source": [
    "9. What three functions can be used to get the integer, floating-point number, or string version of a value?"
   ]
  },
  {
   "cell_type": "markdown",
   "id": "8f6f2694",
   "metadata": {},
   "source": [
    "Ans : str(), int(), float()"
   ]
  },
  {
   "cell_type": "markdown",
   "id": "68ea3746",
   "metadata": {},
   "source": [
    "10. Why does this expression cause an error? How can you fix it?\n",
    "\n",
    "'I have eaten' + 99 + 'burritos' "
   ]
  },
  {
   "cell_type": "markdown",
   "id": "3ae55865",
   "metadata": {},
   "source": [
    "Ans : 99 is an integer it cannot be concatenated with strings, if we have to concatenate it we need to do typecasting.\n",
    "\n",
    "such as 'I have eaten' + str(99) + 'burritos' "
   ]
  },
  {
   "cell_type": "code",
   "execution_count": null,
   "id": "90f419a9",
   "metadata": {},
   "outputs": [],
   "source": []
  }
 ],
 "metadata": {
  "kernelspec": {
   "display_name": "Python 3 (ipykernel)",
   "language": "python",
   "name": "python3"
  },
  "language_info": {
   "codemirror_mode": {
    "name": "ipython",
    "version": 3
   },
   "file_extension": ".py",
   "mimetype": "text/x-python",
   "name": "python",
   "nbconvert_exporter": "python",
   "pygments_lexer": "ipython3",
   "version": "3.8.5"
  }
 },
 "nbformat": 4,
 "nbformat_minor": 5
}
