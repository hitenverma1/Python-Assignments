{
 "cells": [
  {
   "cell_type": "markdown",
   "id": "4e368d75",
   "metadata": {},
   "source": [
    "Q-1. Write an SQL query to print details of workers excluding first names, “Vipul” and “Satish” from Worker table."
   ]
  },
  {
   "cell_type": "raw",
   "id": "2f1bac76",
   "metadata": {},
   "source": [
    "SELECT *\n",
    "FROM worker\n",
    "WHERE FIRST_NAME != \"Vipul\" and FIRST_NAME !=\"Satish\" ;"
   ]
  },
  {
   "cell_type": "markdown",
   "id": "078a081c",
   "metadata": {},
   "source": [
    "Q-2. Write an SQL query to print details of the Workers whose FIRST_NAME ends with ‘h’ and contains six alphabets."
   ]
  },
  {
   "cell_type": "raw",
   "id": "4635aba9",
   "metadata": {},
   "source": [
    "select *\n",
    "from worker\n",
    "where first_name like \"_____h\";"
   ]
  },
  {
   "cell_type": "markdown",
   "id": "9c739ad4",
   "metadata": {},
   "source": [
    "Q-3. Write a query to validate Email of Employee."
   ]
  },
  {
   "cell_type": "raw",
   "id": "d0f3f4a4",
   "metadata": {},
   "source": [
    "select * from Worker where Email like '%@gmail.com';"
   ]
  },
  {
   "cell_type": "code",
   "execution_count": null,
   "id": "db60f7e0",
   "metadata": {},
   "outputs": [],
   "source": []
  },
  {
   "cell_type": "code",
   "execution_count": null,
   "id": "2cfc18e3",
   "metadata": {},
   "outputs": [],
   "source": []
  }
 ],
 "metadata": {
  "kernelspec": {
   "display_name": "Python 3",
   "language": "python",
   "name": "python3"
  },
  "language_info": {
   "codemirror_mode": {
    "name": "ipython",
    "version": 3
   },
   "file_extension": ".py",
   "mimetype": "text/x-python",
   "name": "python",
   "nbconvert_exporter": "python",
   "pygments_lexer": "ipython3",
   "version": "3.8.8"
  }
 },
 "nbformat": 4,
 "nbformat_minor": 5
}
