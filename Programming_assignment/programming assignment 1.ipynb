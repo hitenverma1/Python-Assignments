{
 "cells": [
  {
   "cell_type": "code",
   "execution_count": 1,
   "metadata": {},
   "outputs": [
    {
     "name": "stdout",
     "output_type": "stream",
     "text": [
      "Hello python\n"
     ]
    }
   ],
   "source": [
    "#a Python program to print \"Hello Python\"\n",
    "print(\"Hello python\")"
   ]
  },
  {
   "cell_type": "code",
   "execution_count": 3,
   "metadata": {},
   "outputs": [
    {
     "name": "stdout",
     "output_type": "stream",
     "text": [
      "enter an integer 10\n",
      "enter an integer 20\n"
     ]
    }
   ],
   "source": [
    "#a Python program to do arithmetical operations addition and division.\n",
    "a=int(input(\"enter an integer \"))\n",
    "b=int(input(\"enter an integer \"))\n",
    "c=a+b\n",
    "d=a/b\n",
    "e=a*b\n",
    "f=a-b"
   ]
  },
  {
   "cell_type": "code",
   "execution_count": 7,
   "metadata": {},
   "outputs": [
    {
     "data": {
      "text/plain": [
       "(30, 0.5, 200, -10)"
      ]
     },
     "execution_count": 7,
     "metadata": {},
     "output_type": "execute_result"
    }
   ],
   "source": [
    "c,d,e,f"
   ]
  },
  {
   "cell_type": "code",
   "execution_count": 9,
   "metadata": {},
   "outputs": [
    {
     "name": "stdout",
     "output_type": "stream",
     "text": [
      "base of a triangle 5\n",
      "height of a triangle 10\n",
      "25\n"
     ]
    }
   ],
   "source": [
    "#a Python program to find the area of a triangle.\n",
    "b=int(input(\"base of a triangle \"))\n",
    "h=int(input(\"height of a triangle \"))\n",
    "\n",
    "area=int(1/2*b*h)\n",
    "print(area)"
   ]
  },
  {
   "cell_type": "raw",
   "metadata": {},
   "source": []
  },
  {
   "cell_type": "code",
   "execution_count": 12,
   "metadata": {},
   "outputs": [
    {
     "name": "stdout",
     "output_type": "stream",
     "text": [
      "enter number1= 10\n",
      "enter number2= 20\n",
      "Number1=  20\n",
      "Number2=  10\n"
     ]
    }
   ],
   "source": [
    "#Python program to swap two variables#\n",
    "Number1= input(\"enter number1= \")\n",
    "Number2= input(\"enter number2= \")\n",
    "\n",
    "temp_number1= print(\"Number1= \",Number2)\n",
    "Number2= print(\"Number2= \",Number1)"
   ]
  },
  {
   "cell_type": "code",
   "execution_count": 19,
   "metadata": {},
   "outputs": [
    {
     "name": "stdout",
     "output_type": "stream",
     "text": [
      "8857\n"
     ]
    }
   ],
   "source": [
    "#Python program to generate a random number\n",
    "import random  \n",
    "print(random.randint(1,10000)) \n"
   ]
  },
  {
   "cell_type": "code",
   "execution_count": null,
   "metadata": {},
   "outputs": [],
   "source": []
  },
  {
   "cell_type": "code",
   "execution_count": null,
   "metadata": {},
   "outputs": [],
   "source": []
  },
  {
   "cell_type": "code",
   "execution_count": null,
   "metadata": {},
   "outputs": [],
   "source": []
  }
 ],
 "metadata": {
  "kernelspec": {
   "display_name": "Python 3",
   "language": "python",
   "name": "python3"
  },
  "language_info": {
   "codemirror_mode": {
    "name": "ipython",
    "version": 3
   },
   "file_extension": ".py",
   "mimetype": "text/x-python",
   "name": "python",
   "nbconvert_exporter": "python",
   "pygments_lexer": "ipython3",
   "version": "3.8.5"
  }
 },
 "nbformat": 4,
 "nbformat_minor": 4
}
