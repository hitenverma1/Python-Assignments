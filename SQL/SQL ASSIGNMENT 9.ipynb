{
 "cells": [
  {
   "cell_type": "markdown",
   "id": "ed203c83",
   "metadata": {},
   "source": [
    "Q-17.  Write an SQL query to show the top n (say 10) records of a table."
   ]
  },
  {
   "cell_type": "raw",
   "id": "c573fc7b",
   "metadata": {},
   "source": [
    "Select *\n",
    "from worker\n",
    "limit 10;"
   ]
  },
  {
   "cell_type": "markdown",
   "id": "df43873e",
   "metadata": {},
   "source": [
    "Q-18. Write an SQL query to determine the nth (say n=5) highest salary from a table."
   ]
  },
  {
   "cell_type": "raw",
   "id": "b71bab3c",
   "metadata": {},
   "source": [
    "select *\n",
    "from worker\n",
    "order by SALARY desc\n",
    "limit 10;\n"
   ]
  },
  {
   "cell_type": "code",
   "execution_count": null,
   "id": "3193b582",
   "metadata": {},
   "outputs": [],
   "source": []
  }
 ],
 "metadata": {
  "kernelspec": {
   "display_name": "Python 3",
   "language": "python",
   "name": "python3"
  },
  "language_info": {
   "codemirror_mode": {
    "name": "ipython",
    "version": 3
   },
   "file_extension": ".py",
   "mimetype": "text/x-python",
   "name": "python",
   "nbconvert_exporter": "python",
   "pygments_lexer": "ipython3",
   "version": "3.8.8"
  }
 },
 "nbformat": 4,
 "nbformat_minor": 5
}
