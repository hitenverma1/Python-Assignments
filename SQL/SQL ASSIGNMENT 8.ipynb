{
 "cells": [
  {
   "cell_type": "markdown",
   "id": "0e2ea58d",
   "metadata": {},
   "source": [
    "Q-15. Write an SQL query to fetch intersecting records of two tables."
   ]
  },
  {
   "cell_type": "raw",
   "id": "c6c7bb63",
   "metadata": {},
   "source": [
    "select *\n",
    "from title\n",
    "where WORKER_REF_ID in (select WORKER_REF_ID from bonus);"
   ]
  },
  {
   "cell_type": "markdown",
   "id": "c6d01562",
   "metadata": {},
   "source": [
    "Q-16. Write an SQL query to show records from one table that another table does not have"
   ]
  },
  {
   "cell_type": "raw",
   "id": "a270a9a0",
   "metadata": {},
   "source": [
    "select *\n",
    "from title\n",
    "where WORKER_REF_ID not in (select WORKER_REF_ID from bonus);"
   ]
  }
 ],
 "metadata": {
  "kernelspec": {
   "display_name": "Python 3",
   "language": "python",
   "name": "python3"
  },
  "language_info": {
   "codemirror_mode": {
    "name": "ipython",
    "version": 3
   },
   "file_extension": ".py",
   "mimetype": "text/x-python",
   "name": "python",
   "nbconvert_exporter": "python",
   "pygments_lexer": "ipython3",
   "version": "3.8.8"
  }
 },
 "nbformat": 4,
 "nbformat_minor": 5
}
