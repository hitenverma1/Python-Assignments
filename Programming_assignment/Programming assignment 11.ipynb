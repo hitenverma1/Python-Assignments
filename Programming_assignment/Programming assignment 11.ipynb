{
 "cells": [
  {
   "cell_type": "code",
   "execution_count": null,
   "metadata": {},
   "outputs": [],
   "source": [
    "#Write a Python program to find words which are greater than given length k?\n",
    "n= input(\" Enter the name : \")\n",
    "k=5\n",
    "\n",
    "if len(n) > k:\n",
    "    print(\"Given name is greater than given length\")\n",
    "else:\n",
    "    print(\"Given name is not greater than given length\")\n",
    "    "
   ]
  },
  {
   "cell_type": "code",
   "execution_count": 17,
   "metadata": {},
   "outputs": [
    {
     "name": "stdout",
     "output_type": "stream",
     "text": [
      "number of character need to remove 10\n",
      "mital nandumar patil\n"
     ]
    }
   ],
   "source": [
    "#Write a Python program for removing i-th character from a string?\n",
    "s=\"mital nandkumar patil\"\n",
    "n=int(input(\"number of character need to remove \"))\n",
    "m=len(s)\n",
    "\n",
    "a= s[0:n]\n",
    "b=s[n+1:m]\n",
    "\n",
    "print(a + b)"
   ]
  },
  {
   "cell_type": "code",
   "execution_count": 3,
   "metadata": {},
   "outputs": [
    {
     "name": "stdout",
     "output_type": "stream",
     "text": [
      "Splitted list is ['This', 'is  an 11th assignment given by ineuron']\n",
      "Joined string is ['This', 'is  an 11th assignment given by ineuron']\n"
     ]
    }
   ],
   "source": [
    "#Write a Python program to split and join a string?\n",
    "#Python program for splitting a string\n",
    "a= \"This is  an 11th assignment given by ineuron\"\n",
    "b= a.split(\" \",1)\n",
    "\n",
    "print(\"Splitted list is\",b)\n",
    "\n",
    "#Python program for joining string\n",
    "x=\"\".join(b)\n",
    "\n",
    "print(\"Joined string is\",b)\n",
    "\n",
    "\n"
   ]
  },
  {
   "cell_type": "code",
   "execution_count": 4,
   "metadata": {},
   "outputs": [
    {
     "name": "stdout",
     "output_type": "stream",
     "text": [
      "No\n"
     ]
    }
   ],
   "source": [
    "#Write a Python to check if a given string is binary string or not?\n",
    "def check(string) :\n",
    "    p = set(string)\n",
    "    s = {'0', '1'}\n",
    "    \n",
    "    \n",
    "    if s == p or p == {'0'} or p == {'1'}:\n",
    "        print(\"Yes\")\n",
    "    else :\n",
    "        print(\"No\")\n",
    "        \n",
    "check(\"\")"
   ]
  },
  {
   "cell_type": "code",
   "execution_count": 15,
   "metadata": {},
   "outputs": [
    {
     "name": "stdout",
     "output_type": "stream",
     "text": [
      "['mital', 'banana', 'Patil', 'Data science']\n"
     ]
    }
   ],
   "source": [
    "#Write a Python program to find uncommon words from two Strings?\n",
    "\n",
    "string1=\"mital\",\"google\",\"cherry\",\"banana\"\n",
    "string2=\"google\",\"cherry\",\"Patil\",\"Data science\"\n",
    "un=[]\n",
    "\n",
    "for i in string1:\n",
    "    if i not in string2:\n",
    "        un.append(i)\n",
    "for j in string2:\n",
    "    if j not in string1:\n",
    "        un.append(j)\n",
    "print(un)"
   ]
  },
  {
   "cell_type": "code",
   "execution_count": 16,
   "metadata": {},
   "outputs": [
    {
     "name": "stdout",
     "output_type": "stream",
     "text": [
      "['a', 'a', 'c', 'e', 'c', 'e']\n"
     ]
    }
   ],
   "source": [
    "#Write a Python to find all duplicate characters in string?\n",
    "string3=\"Data_science\"\n",
    "Duplicate=[]\n",
    "\n",
    "for i in string3:\n",
    "    if string3.count(i)>=2:\n",
    "        Duplicate.append(i)\n",
    "print(Duplicate)\n"
   ]
  },
  {
   "cell_type": "code",
   "execution_count": 29,
   "metadata": {},
   "outputs": [
    {
     "name": "stdout",
     "output_type": "stream",
     "text": [
      "Enter any string: MITSAL\n",
      "String does not contain any special characters.\n"
     ]
    }
   ],
   "source": [
    "#Write a Python Program to check if a string contains any special character?\n",
    "# Python program to check special character\n",
    "import re\n",
    "string = input('Enter any string: ')\n",
    "special_char = re.compile('[@_!#$%^&*()<>?/\\|}{~:]')\n",
    "\n",
    "if(special_char.search(string) == None):\n",
    "    print('String does not contain any special characters.')\n",
    "else:\n",
    "    print('The string contains special characters.')"
   ]
  },
  {
   "cell_type": "code",
   "execution_count": null,
   "metadata": {},
   "outputs": [],
   "source": []
  }
 ],
 "metadata": {
  "kernelspec": {
   "display_name": "Python 3",
   "language": "python",
   "name": "python3"
  },
  "language_info": {
   "codemirror_mode": {
    "name": "ipython",
    "version": 3
   },
   "file_extension": ".py",
   "mimetype": "text/x-python",
   "name": "python",
   "nbconvert_exporter": "python",
   "pygments_lexer": "ipython3",
   "version": "3.8.5"
  }
 },
 "nbformat": 4,
 "nbformat_minor": 4
}
