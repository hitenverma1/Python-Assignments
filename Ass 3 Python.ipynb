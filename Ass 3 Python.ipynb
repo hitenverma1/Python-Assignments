{
 "cells": [
  {
   "cell_type": "markdown",
   "id": "8ffe0bd3",
   "metadata": {},
   "source": [
    "1. Why are functions advantageous to have in your programs?"
   ]
  },
  {
   "cell_type": "markdown",
   "id": "7220baef",
   "metadata": {},
   "source": [
    "Ans : 1. Reducing duplication of code.\n",
    "\n",
    "2. Decomposing complex problems into simpler pieces.\n",
    "\n",
    "3. Improving clarity of the code.\n",
    "\n",
    "4. Reuse of code."
   ]
  },
  {
   "cell_type": "markdown",
   "id": "a3d0be34",
   "metadata": {},
   "source": [
    "2. When does the code in a function run: when it's specified or when it's called?"
   ]
  },
  {
   "cell_type": "markdown",
   "id": "7ec726d1",
   "metadata": {},
   "source": [
    "Ans : When it is called"
   ]
  },
  {
   "cell_type": "markdown",
   "id": "c4d56114",
   "metadata": {},
   "source": [
    "3. What statement creates a function?"
   ]
  },
  {
   "cell_type": "markdown",
   "id": "43d9e10c",
   "metadata": {},
   "source": [
    "Ans : A function is created with the def keyword. The def keyword is followed by the function name with round brackets and a colon."
   ]
  },
  {
   "cell_type": "markdown",
   "id": "9d633b62",
   "metadata": {},
   "source": [
    "4. What is the difference between a function and a function call?"
   ]
  },
  {
   "cell_type": "markdown",
   "id": "ad7bf101",
   "metadata": {},
   "source": [
    "Ans : A function is a block of code that does a particular operation and returns a result. It usually accepts inputs as parameters and returns a result. The parameters are not mandatory.\n",
    "\n",
    "Ex:\n",
    "def add_up(a,b)\n",
    "return a+b\n",
    "\n",
    "A function call is the code used to pass control to a function.\n",
    "\n",
    "Ex:\n",
    "c = add_up(5,6)\n",
    "Now c will have the value 11."
   ]
  },
  {
   "cell_type": "markdown",
   "id": "ff551ce5",
   "metadata": {},
   "source": [
    "5. How many global scopes are there in a Python program? How many local scopes?"
   ]
  },
  {
   "cell_type": "markdown",
   "id": "63594d43",
   "metadata": {},
   "source": [
    "Ans : There's only one global Python scope per program execution and a local scope is created whenever a function is called"
   ]
  },
  {
   "cell_type": "markdown",
   "id": "72505576",
   "metadata": {},
   "source": [
    "6. What happens to variables in a local scope when the function call returns?"
   ]
  },
  {
   "cell_type": "markdown",
   "id": "a4175f76",
   "metadata": {},
   "source": [
    "Ans : A local variable retains its value until the next time the function is called A local variable becomes undefined after the function call completes The local variable can be used outside the function any time after the function call completes."
   ]
  },
  {
   "cell_type": "markdown",
   "id": "e5d77b77",
   "metadata": {},
   "source": [
    "7. What is the concept of a return value? Is it possible to have a return value in an expression?"
   ]
  },
  {
   "cell_type": "markdown",
   "id": "bd28a5a6",
   "metadata": {},
   "source": [
    "Ans : A return is a value that a function returns to the calling script or function when it completes its task. A return value can be any one of the four variable types: handle, integer, object, or string.\n",
    "Yes,  it is possible to have a return value in an expression"
   ]
  },
  {
   "cell_type": "markdown",
   "id": "8838a6fe",
   "metadata": {},
   "source": [
    "8. If a function does not have a return statement, what is the return value of a call to that function?"
   ]
  },
  {
   "cell_type": "markdown",
   "id": "3d633e18",
   "metadata": {},
   "source": [
    "Ans :  a function can exist without a return statement and returns none if the function doesn't have a return statement"
   ]
  },
  {
   "cell_type": "markdown",
   "id": "ba5cdfcc",
   "metadata": {},
   "source": [
    "9. How do you make a function variable refer to the global variable?"
   ]
  },
  {
   "cell_type": "markdown",
   "id": "5a1e1315",
   "metadata": {},
   "source": [
    "Ans : If we want to refer to a global variable in a function, we can use the global keyword to declare which variables are global."
   ]
  },
  {
   "cell_type": "markdown",
   "id": "561f5448",
   "metadata": {},
   "source": [
    "10. What is the data type of None?"
   ]
  },
  {
   "cell_type": "markdown",
   "id": "b98f74ec",
   "metadata": {},
   "source": [
    "Ans : NoneType"
   ]
  },
  {
   "cell_type": "markdown",
   "id": "caf0fbf9",
   "metadata": {},
   "source": [
    "11. What does the sentence import areallyourpetsnamederic do?"
   ]
  },
  {
   "cell_type": "markdown",
   "id": "fbf14fc4",
   "metadata": {},
   "source": [
    "Ans : This isn’t a real Python module.\n",
    "\n",
    "ModuleNotFoundError: No module named 'areallyourpetsnamederic'"
   ]
  },
  {
   "cell_type": "markdown",
   "id": "3476f24b",
   "metadata": {},
   "source": [
    "12. If you had a bacon() feature in a spam module, what would you call it after importing spam?"
   ]
  },
  {
   "cell_type": "markdown",
   "id": "d3c0c6f1",
   "metadata": {},
   "source": [
    "Ans : This function can be called with spam.bacon()"
   ]
  },
  {
   "cell_type": "markdown",
   "id": "88be57a8",
   "metadata": {},
   "source": [
    "13. What can you do to save a programme from crashing if it encounters an error?"
   ]
  },
  {
   "cell_type": "markdown",
   "id": "2f198acc",
   "metadata": {},
   "source": [
    "Ans : Place the line of code that might cause an error in a try clause"
   ]
  },
  {
   "cell_type": "markdown",
   "id": "b8edfbe5",
   "metadata": {},
   "source": [
    "14. What is the purpose of the try clause? What is the purpose of the except clause?"
   ]
  },
  {
   "cell_type": "markdown",
   "id": "d277b780",
   "metadata": {},
   "source": [
    "Ans : The code that could potentially cause an error goes in the try clause.\n",
    "\n",
    "The code that executes if an error happens goes in the except clause"
   ]
  },
  {
   "cell_type": "code",
   "execution_count": null,
   "id": "b9c9c6f7",
   "metadata": {},
   "outputs": [],
   "source": []
  }
 ],
 "metadata": {
  "kernelspec": {
   "display_name": "Python 3 (ipykernel)",
   "language": "python",
   "name": "python3"
  },
  "language_info": {
   "codemirror_mode": {
    "name": "ipython",
    "version": 3
   },
   "file_extension": ".py",
   "mimetype": "text/x-python",
   "name": "python",
   "nbconvert_exporter": "python",
   "pygments_lexer": "ipython3",
   "version": "3.8.5"
  }
 },
 "nbformat": 4,
 "nbformat_minor": 5
}
