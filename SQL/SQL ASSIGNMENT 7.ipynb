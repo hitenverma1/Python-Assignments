{
 "cells": [
  {
   "cell_type": "markdown",
   "id": "1272b97a",
   "metadata": {},
   "source": [
    "Q-13. Write an SQL query to show only odd rows from a table."
   ]
  },
  {
   "cell_type": "raw",
   "id": "0b91d838",
   "metadata": {},
   "source": [
    "select *\n",
    "from worker \n",
    "where mod (worker_id,2) != 0;"
   ]
  },
  {
   "cell_type": "markdown",
   "id": "3d9e00ab",
   "metadata": {},
   "source": [
    "Q-14. Write an SQL query to clone a new table from another table."
   ]
  },
  {
   "cell_type": "raw",
   "id": "fda1f825",
   "metadata": {},
   "source": [
    "CREATE TABLE WorkerClone \n",
    "LIKE Worker;"
   ]
  }
 ],
 "metadata": {
  "kernelspec": {
   "display_name": "Python 3",
   "language": "python",
   "name": "python3"
  },
  "language_info": {
   "codemirror_mode": {
    "name": "ipython",
    "version": 3
   },
   "file_extension": ".py",
   "mimetype": "text/x-python",
   "name": "python",
   "nbconvert_exporter": "python",
   "pygments_lexer": "ipython3",
   "version": "3.8.8"
  }
 },
 "nbformat": 4,
 "nbformat_minor": 5
}
