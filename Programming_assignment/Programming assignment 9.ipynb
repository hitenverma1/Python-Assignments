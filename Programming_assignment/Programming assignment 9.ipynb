{
 "cells": [
  {
   "cell_type": "code",
   "execution_count": 12,
   "metadata": {},
   "outputs": [
    {
     "name": "stdout",
     "output_type": "stream",
     "text": [
      "Enter the number: 89\n",
      "Given no. 89 is a Disarium number\n"
     ]
    }
   ],
   "source": [
    "#Write a Python program to check if the given number is a Disarium Number?\n",
    "n=int(input(\"Enter the number: \"))\n",
    "sum=0\n",
    "digit=0\n",
    "x=len(str(n))\n",
    "m=n\n",
    "for i in range(x,0,-1):\n",
    "    digit=n%10\n",
    "    sum=sum+digit**i\n",
    "    n=n//10\n",
    "\n",
    "if sum==m:\n",
    "    print(\"Given no. {} is a Disarium number\".format(m))\n",
    "else:\n",
    "    print(\"Given no. {} is not a a Disarium number\".format(m))"
   ]
  },
  {
   "cell_type": "code",
   "execution_count": 14,
   "metadata": {},
   "outputs": [
    {
     "name": "stdout",
     "output_type": "stream",
     "text": [
      "1\n",
      "2\n",
      "3\n",
      "4\n",
      "5\n",
      "6\n",
      "7\n",
      "8\n",
      "9\n",
      "89\n"
     ]
    }
   ],
   "source": [
    "#Write a Python program to print all disarium numbers between 1 to 100\n",
    "for n in range(1,101):\n",
    "    sum=0\n",
    "    digit=0\n",
    "    x=len(str(n))\n",
    "    m=n\n",
    "    for i in range(x,0,-1):\n",
    "        digit=n%10\n",
    "        sum=sum+digit**i\n",
    "        n=n//10\n",
    "    if sum==m:\n",
    "        print(m)\n",
    "        \n",
    "      "
   ]
  },
  {
   "cell_type": "code",
   "execution_count": 2,
   "metadata": {},
   "outputs": [
    {
     "name": "stdout",
     "output_type": "stream",
     "text": [
      "Enter the number: 11\n",
      "Given no. is not a happy no.\n"
     ]
    }
   ],
   "source": [
    "#Write a Python program to check if the given number is Happy Number?\n",
    "def sumofdigit(n):\n",
    "    digit=0\n",
    "    sum=0\n",
    "\n",
    "    while n>0:\n",
    "        digit=n%10\n",
    "        sum=sum+digit*digit\n",
    "        n=n//10\n",
    "    return sum\n",
    "   \n",
    "\n",
    "n= int(input(\"Enter the number: \"))\n",
    "sum=n\n",
    "\n",
    "while sum!=1 and sum!=4:\n",
    "    sum= sumofdigit(sum)\n",
    "if sum==1:\n",
    "    print(\"Given no is a happy no\")\n",
    "else:\n",
    "    print(\"Given no. is not a happy no.\")"
   ]
  },
  {
   "cell_type": "code",
   "execution_count": 3,
   "metadata": {},
   "outputs": [
    {
     "name": "stdout",
     "output_type": "stream",
     "text": [
      "List of happy numbers between 1 and 100: \n",
      "1\n",
      "7\n",
      "10\n",
      "13\n",
      "19\n",
      "23\n",
      "28\n",
      "31\n",
      "32\n",
      "44\n",
      "49\n",
      "68\n",
      "70\n",
      "79\n",
      "82\n",
      "86\n",
      "91\n",
      "94\n",
      "97\n",
      "100\n"
     ]
    }
   ],
   "source": [
    "#Write a Python program to print all happy numbers between 1 and 100?\n",
    "def sumofdigit(n):\n",
    "    digit=0\n",
    "    sum=0\n",
    "\n",
    "    while n>0:\n",
    "        digit=n%10\n",
    "        sum=sum+digit*digit\n",
    "        n=n//10\n",
    "    return sum\n",
    "   \n",
    "\n",
    "print(\"List of happy numbers between 1 and 100: \");    \n",
    "for n in range(1, 101):    \n",
    "    sum = n;\n",
    "\n",
    "    while sum!=1 and sum!=4:\n",
    "        sum= sumofdigit(sum)\n",
    "\n",
    "    if sum==1:\n",
    "        print(n)"
   ]
  },
  {
   "cell_type": "code",
   "execution_count": 4,
   "metadata": {},
   "outputs": [
    {
     "name": "stdout",
     "output_type": "stream",
     "text": [
      "Enter the number 6\n",
      "Given no. is a harshad number\n"
     ]
    }
   ],
   "source": [
    "#Write a Python program to determine whether the given number is a Harshad Number?\n",
    "n= int(input(\"Enter the number \"))\n",
    "m=n\n",
    "sum=0\n",
    "digit=0\n",
    "while n>0:\n",
    "    digit=n%10\n",
    "    sum=sum+digit\n",
    "    n=n//10\n",
    "    \n",
    "if m%sum==0:\n",
    "    print(\"Given no. is a harshad number\")\n",
    "else:\n",
    "    print(\"given no. is not a harshad number\")\n",
    "    "
   ]
  },
  {
   "cell_type": "code",
   "execution_count": 5,
   "metadata": {},
   "outputs": [
    {
     "name": "stdout",
     "output_type": "stream",
     "text": [
      "Pronic numbers between 1 and 100: \n",
      "2\n",
      " \n",
      "6\n",
      " \n",
      "12\n",
      " \n",
      "20\n",
      " \n",
      "30\n",
      " \n",
      "42\n",
      " \n",
      "56\n",
      " \n",
      "72\n",
      " \n",
      "90\n",
      " \n"
     ]
    }
   ],
   "source": [
    "#Write a Python program to print all pronic numbers between 1 and 100?   \n",
    "def isPronicNumber(num):    \n",
    "    flag = False;    \n",
    "    for j in range(1, num+1):    \n",
    "        if((j*(j+1)) == num):    \n",
    "            flag = True;    \n",
    "            break    \n",
    "    return flag;    \n",
    "    \n",
    "print(\"Pronic numbers between 1 and 100: \");    \n",
    "for i in range(1, 101):\n",
    "    if(isPronicNumber(i)):    \n",
    "        print(i),    \n",
    "        print(\" \") "
   ]
  },
  {
   "cell_type": "code",
   "execution_count": null,
   "metadata": {},
   "outputs": [],
   "source": []
  }
 ],
 "metadata": {
  "kernelspec": {
   "display_name": "Python 3",
   "language": "python",
   "name": "python3"
  },
  "language_info": {
   "codemirror_mode": {
    "name": "ipython",
    "version": 3
   },
   "file_extension": ".py",
   "mimetype": "text/x-python",
   "name": "python",
   "nbconvert_exporter": "python",
   "pygments_lexer": "ipython3",
   "version": "3.8.5"
  }
 },
 "nbformat": 4,
 "nbformat_minor": 4
}
