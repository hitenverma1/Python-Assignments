{
 "cells": [
  {
   "cell_type": "markdown",
   "id": "70aa6a6d",
   "metadata": {},
   "source": [
    "Q-1. Write an SQL query to print details of the Workers who have joined in Feb’2014."
   ]
  },
  {
   "cell_type": "raw",
   "id": "a902453b",
   "metadata": {},
   "source": [
    "SELECT *\n",
    "FROM worker\n",
    "WHERE JOINING_DATE LIKE \"2014-02%\";"
   ]
  },
  {
   "cell_type": "markdown",
   "id": "3c1dbe10",
   "metadata": {},
   "source": [
    "Q-2. Write an SQL query to fetch duplicate records having matching data in some fields of a table."
   ]
  },
  {
   "cell_type": "raw",
   "id": "20f26204",
   "metadata": {},
   "source": [
    "SELECT WORKER_TITLE, AFFECTED_FROM, COUNT(*)\n",
    "FROM Title\n",
    "GROUP BY WORKER_TITLE, AFFECTED_FROM\n",
    "HAVING COUNT(*) > 1;"
   ]
  },
  {
   "cell_type": "markdown",
   "id": "02550bd0",
   "metadata": {},
   "source": [
    "Q-3. How to remove duplicate rows from Employees table."
   ]
  },
  {
   "cell_type": "raw",
   "id": "001e9c69",
   "metadata": {},
   "source": [
    "DELETE S1 FROM student_contacts AS S1  \n",
    "INNER JOIN student_contacts AS S2   \n",
    "WHERE S1.id < S2.id AND S1.email = S2.email;  \n"
   ]
  }
 ],
 "metadata": {
  "kernelspec": {
   "display_name": "Python 3",
   "language": "python",
   "name": "python3"
  },
  "language_info": {
   "codemirror_mode": {
    "name": "ipython",
    "version": 3
   },
   "file_extension": ".py",
   "mimetype": "text/x-python",
   "name": "python",
   "nbconvert_exporter": "python",
   "pygments_lexer": "ipython3",
   "version": "3.8.8"
  }
 },
 "nbformat": 4,
 "nbformat_minor": 5
}
