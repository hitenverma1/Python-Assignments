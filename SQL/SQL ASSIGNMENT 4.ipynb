{
 "cells": [
  {
   "cell_type": "markdown",
   "id": "b385c871",
   "metadata": {},
   "source": [
    "Q-1. Write an SQL query to print the FIRST_NAME from Worker table after replacing ‘a’ with ‘A’."
   ]
  },
  {
   "cell_type": "raw",
   "id": "6221893d",
   "metadata": {},
   "source": [
    "SELECT REPLACE(FIRST_NAME,'a','A')\n",
    "from worker;"
   ]
  },
  {
   "cell_type": "markdown",
   "id": "f4ea2f0e",
   "metadata": {},
   "source": [
    "Q-2. Write an SQL query to print all Worker details from the Worker table order by FIRST_NAME Ascending and DEPARTMENT Descending."
   ]
  },
  {
   "cell_type": "raw",
   "id": "02e1becd",
   "metadata": {},
   "source": [
    "SELECT *\n",
    "FROM WORKER\n",
    "ORDER BY FIRST_NAME ASC, DEPARTMENT DESC;"
   ]
  },
  {
   "cell_type": "markdown",
   "id": "d2cb35c7",
   "metadata": {},
   "source": [
    "Q-3. Write an SQL query to fetch the names of workers who earn the highest salary."
   ]
  },
  {
   "cell_type": "raw",
   "id": "2e6f55de",
   "metadata": {},
   "source": [
    "SELECT *\n",
    "FROM WORKER\n",
    "ORDER BY SALARY DESC;"
   ]
  },
  {
   "cell_type": "code",
   "execution_count": null,
   "id": "04fc88ad",
   "metadata": {},
   "outputs": [],
   "source": []
  }
 ],
 "metadata": {
  "kernelspec": {
   "display_name": "Python 3",
   "language": "python",
   "name": "python3"
  },
  "language_info": {
   "codemirror_mode": {
    "name": "ipython",
    "version": 3
   },
   "file_extension": ".py",
   "mimetype": "text/x-python",
   "name": "python",
   "nbconvert_exporter": "python",
   "pygments_lexer": "ipython3",
   "version": "3.8.8"
  }
 },
 "nbformat": 4,
 "nbformat_minor": 5
}
