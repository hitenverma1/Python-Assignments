{
 "cells": [
  {
   "cell_type": "code",
   "execution_count": 1,
   "metadata": {},
   "outputs": [
    {
     "name": "stdout",
     "output_type": "stream",
     "text": [
      "Please select the operation\n",
      "1.add\n",
      "2.substact\n",
      "3.multiply\n",
      "4.divide\n",
      "Number 1= 4\n",
      "Number 2=5\n",
      "Please select the operation no.: 3\n",
      "20\n"
     ]
    }
   ],
   "source": [
    "#Write a Python Program to Make a Simple Calculator with 4 basic mathematical operations?\n",
    "def add(n1,n2):\n",
    "    return n1+n2\n",
    "\n",
    "def substract(n1,n2):\n",
    "    return n1-n2\n",
    "\n",
    "def multiply(n1,n2):\n",
    "    return n1*n2\n",
    "\n",
    "def divide(n1,n2):\n",
    "    return n1/n2\n",
    "print(\"Please select the operation\")\n",
    "print(\"1.add\")\n",
    "print(\"2.substact\")\n",
    "print(\"3.multiply\")\n",
    "print(\"4.divide\")\n",
    "\n",
    "\n",
    "n1=int(input(\"Number 1= \"))\n",
    "n2=int(input(\"Number 2= \"))\n",
    "\n",
    "select=int(input(\"Please select the operation no.: \"))\n",
    "\n",
    "if select==1:\n",
    "    print(add(n1,n2))\n",
    "    \n",
    "if select==2:\n",
    "    print(substract(n1,n2))\n",
    "\n",
    "if select==3:\n",
    "    print(multiply(n1,n2))\n",
    "    \n",
    "if select==4:\n",
    "    print(divide(n1,n2))"
   ]
  },
  {
   "cell_type": "code",
   "execution_count": 2,
   "metadata": {},
   "outputs": [
    {
     "name": "stdout",
     "output_type": "stream",
     "text": [
      "Enter the number 5\n",
      "enter the number 8\n",
      "Lcm of the number is 40\n"
     ]
    }
   ],
   "source": [
    "#Write a Python Program to Find LCM?\n",
    "a= int(input(\"Enter the number \"))\n",
    "b= int(input(\"enter the number \"))\n",
    "\n",
    "for i in range(1,a*b+1):\n",
    "    if i%a== 0 and i%b==0:\n",
    "        print(\"Lcm of the number is {}\".format(i))\n",
    "        break"
   ]
  },
  {
   "cell_type": "code",
   "execution_count": 6,
   "metadata": {},
   "outputs": [
    {
     "name": "stdout",
     "output_type": "stream",
     "text": [
      "enter the number 1: 5\n",
      "enter the number 2: 6\n",
      "HCF of the given numbers is1\n"
     ]
    }
   ],
   "source": [
    "##Write a Python Program to Find HCF \n",
    "a=int(input(\"enter the number 1: \"))\n",
    "b=int(input(\"enter the number 2: \"))\n",
    "\n",
    "if a<b:\n",
    "    n=a\n",
    "else:\n",
    "    n=b\n",
    "    \n",
    "for i in range(1,n+1):\n",
    "    if a%i==0 and b%i==0:\n",
    "        hcf= i\n",
    "\n",
    "print(\"HCF of the given numbers is {}\".format(hcf))"
   ]
  },
  {
   "cell_type": "code",
   "execution_count": 4,
   "metadata": {},
   "outputs": [
    {
     "name": "stdout",
     "output_type": "stream",
     "text": [
      "Enter the character whose ASCII VALUE u want:  8\n",
      "Ascii value of 8 is 56\n"
     ]
    }
   ],
   "source": [
    "a= input(\"Enter the character whose ASCII VALUE u want:  \")\n",
    "b=ord(a)\n",
    "print(\"Ascii value of {} is {}\".format(a,b))"
   ]
  },
  {
   "cell_type": "code",
   "execution_count": 8,
   "metadata": {},
   "outputs": [
    {
     "name": "stdout",
     "output_type": "stream",
     "text": [
      "enter hte number : 8\n",
      "The decimal value of 8 is:\n",
      "0b1000 in binary.\n",
      "0o10 in octal.\n",
      "0x8 in hexadecimal.\n"
     ]
    }
   ],
   "source": [
    "#Write a Python Program to Convert Decimal to Binary, Octal and Hexadecimal?\n",
    "dec =int(input(\"enter hte number : \"))\n",
    "\n",
    "print(\"The decimal value of\",dec, \"is:\")\n",
    "print(bin(dec), \"in binary.\")\n",
    "print(oct(dec), \"in octal.\")\n",
    "print(hex(dec), \"in hexadecimal.\")"
   ]
  },
  {
   "cell_type": "code",
   "execution_count": null,
   "metadata": {},
   "outputs": [],
   "source": []
  }
 ],
 "metadata": {
  "kernelspec": {
   "display_name": "Python 3",
   "language": "python",
   "name": "python3"
  },
  "language_info": {
   "codemirror_mode": {
    "name": "ipython",
    "version": 3
   },
   "file_extension": ".py",
   "mimetype": "text/x-python",
   "name": "python",
   "nbconvert_exporter": "python",
   "pygments_lexer": "ipython3",
   "version": "3.8.5"
  }
 },
 "nbformat": 4,
 "nbformat_minor": 4
}
