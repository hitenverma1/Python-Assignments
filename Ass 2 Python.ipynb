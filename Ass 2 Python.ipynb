{
 "cells": [
  {
   "cell_type": "markdown",
   "id": "2c6f7cd0",
   "metadata": {},
   "source": [
    "1.What are the two values of the Boolean data type? How do you write them?"
   ]
  },
  {
   "cell_type": "markdown",
   "id": "818d1768",
   "metadata": {},
   "source": [
    "Ans : The two values  of boolean data type : True or  False.\n",
    "\n",
    "Boolean logic can be formulated with the use of logic operations."
   ]
  },
  {
   "cell_type": "markdown",
   "id": "3a914774",
   "metadata": {},
   "source": [
    "2. What are the three different types of Boolean operators?"
   ]
  },
  {
   "cell_type": "markdown",
   "id": "6d98e802",
   "metadata": {},
   "source": [
    "Ans : ==   :   Equal\n",
    "\n",
    "!=    :   Not Equal\n",
    "\n",
    "<   :   Less Than"
   ]
  },
  {
   "cell_type": "markdown",
   "id": "987a002c",
   "metadata": {},
   "source": [
    "3. Make a list of each Boolean operator&#39;s truth tables (i.e. every possible combination of Boolean\n",
    "values for the operator and what it evaluate )."
   ]
  },
  {
   "cell_type": "markdown",
   "id": "cd81b256",
   "metadata": {},
   "source": [
    "Ans : True and True is True.\n",
    "\n",
    "True and False is False.\n",
    "\n",
    "False and True is False.\n",
    "\n",
    "False and False is False.\n",
    "\n",
    "True or True is True.\n",
    "\n",
    "True or False is True.\n",
    "\n",
    "False or True is True.\n",
    "\n",
    "False or False is False.\n",
    "\n",
    "not True is False.\n",
    "\n",
    "not False is True."
   ]
  },
  {
   "cell_type": "markdown",
   "id": "69582a9a",
   "metadata": {},
   "source": [
    "4. What are the values of the following expressions?\n",
    "\n",
    "[1]  (5 &gt; 4) and (3 == 5)\n",
    "\n",
    "[2]  not (5 &gt; 4)\n",
    "\n",
    "[3]  (5 &gt; 4) or (3 == 5)\n",
    "\n",
    "[4]  not ((5 &gt; 4) or (3 == 5))\n",
    "\n",
    "[5]  (True and True) and (True == False)\n",
    "\n",
    "[6]  (not False) or (not True)"
   ]
  },
  {
   "cell_type": "markdown",
   "id": "8f8c393f",
   "metadata": {},
   "source": [
    "Ans : [1]  False\n",
    "\n",
    "[2]  False\n",
    "\n",
    "[3]  True\n",
    "\n",
    "[4]  False\n",
    "\n",
    "[5]  False\n",
    "\n",
    "[6] True"
   ]
  },
  {
   "cell_type": "markdown",
   "id": "5ab9e05f",
   "metadata": {},
   "source": [
    "5. What are the six comparison operators?"
   ]
  },
  {
   "cell_type": "markdown",
   "id": "45d21be1",
   "metadata": {},
   "source": [
    "Ans : ==, !=, <, >, <=, >="
   ]
  },
  {
   "cell_type": "markdown",
   "id": "cdd87a94",
   "metadata": {},
   "source": [
    "6. How do you tell the difference between the equal to and assignment operators?Describe a\n",
    "condition and when you would use one."
   ]
  },
  {
   "cell_type": "markdown",
   "id": "69e684d8",
   "metadata": {},
   "source": [
    "== is the equal to operator that compares two values and evaluates to a Boolean,\n",
    "\n",
    "while = is the assignment operator that stores a value in a variable.\n",
    "\n",
    "example : 5 == 5  --->  True (Boolean Values)\n",
    "\n",
    "a = 5  ---> assigning values to variables"
   ]
  },
  {
   "cell_type": "markdown",
   "id": "3f3f57c3",
   "metadata": {},
   "source": [
    "7. Identify the three blocks in this code:\n",
    "\n",
    "spam = 0\n",
    "\n",
    "if spam == 10:\n",
    "\n",
    "print('eggs')\n",
    "\n",
    "if spam > 5:\n",
    "\n",
    "print('bacon')\n",
    "\n",
    "else:\n",
    "\n",
    "print('ham')\n",
    "\n",
    "print('spam')\n",
    "\n",
    "print('spam')"
   ]
  },
  {
   "cell_type": "code",
   "execution_count": 5,
   "id": "11c7dd1c",
   "metadata": {},
   "outputs": [
    {
     "name": "stdout",
     "output_type": "stream",
     "text": [
      "ham\n",
      "spam\n",
      "spam\n"
     ]
    }
   ],
   "source": [
    "spam = 0\n",
    "if spam == 10:\n",
    "    print('eggs')\n",
    "if spam > 5:\n",
    "    print('bacon')\n",
    "else:\n",
    "    print('ham')\n",
    "    print('spam')\n",
    "    print('spam')"
   ]
  },
  {
   "cell_type": "markdown",
   "id": "3050cb52",
   "metadata": {},
   "source": [
    "Ans : The three blocks are inside the if statements and else."
   ]
  },
  {
   "cell_type": "markdown",
   "id": "bb7ca50b",
   "metadata": {},
   "source": [
    "8. Write code that prints Hello if 1 is stored in spam, prints Howdy if 2 is stored in spam, and prints\n",
    "Greetings! if anything else is stored in spam."
   ]
  },
  {
   "cell_type": "code",
   "execution_count": 7,
   "id": "2d2bbef4",
   "metadata": {},
   "outputs": [
    {
     "name": "stdout",
     "output_type": "stream",
     "text": [
      "Greetings!\n"
     ]
    }
   ],
   "source": [
    "spam = 0\n",
    "if spam == 1:\n",
    "    print('Hello')\n",
    "if spam == 2:\n",
    "    print('Howdy')\n",
    "else:\n",
    "    print('Greetings!')"
   ]
  },
  {
   "cell_type": "markdown",
   "id": "c7313ed9",
   "metadata": {},
   "source": [
    "9.If your programme is stuck in an endless loop, what keys you’ll press?"
   ]
  },
  {
   "cell_type": "markdown",
   "id": "44bea399",
   "metadata": {},
   "source": [
    "Ans : Restart Kernel"
   ]
  },
  {
   "cell_type": "markdown",
   "id": "b5357c8e",
   "metadata": {},
   "source": [
    "10. How can you tell the difference between break and continue?"
   ]
  },
  {
   "cell_type": "markdown",
   "id": "10a11244",
   "metadata": {},
   "source": [
    "Ans : break statement stops the loop in which the statement is placed.\n",
    "\n",
    "    continue statement skips a single iteration in a loop."
   ]
  },
  {
   "cell_type": "markdown",
   "id": "ccd11a26",
   "metadata": {},
   "source": [
    "11. In a for loop, what is the difference between range(10), range(0, 10), and range(0, 10, 1)?"
   ]
  },
  {
   "cell_type": "markdown",
   "id": "7e7d129e",
   "metadata": {},
   "source": [
    "Ans : There is no such difference because the output is same in every situation"
   ]
  },
  {
   "cell_type": "markdown",
   "id": "67f1701d",
   "metadata": {},
   "source": [
    "12. Write a short program that prints the numbers 1 to 10 using a for loop. Then write an equivalent\n",
    "program that prints the numbers 1 to 10 using a while loop."
   ]
  },
  {
   "cell_type": "code",
   "execution_count": 19,
   "id": "7890df07",
   "metadata": {},
   "outputs": [
    {
     "name": "stdout",
     "output_type": "stream",
     "text": [
      "1\n",
      "2\n",
      "3\n",
      "4\n",
      "5\n",
      "6\n",
      "7\n",
      "8\n",
      "9\n",
      "10\n"
     ]
    }
   ],
   "source": [
    "for i in range(1,11):\n",
    "    print (i)"
   ]
  },
  {
   "cell_type": "code",
   "execution_count": 17,
   "id": "ef3edc16",
   "metadata": {},
   "outputs": [
    {
     "name": "stdout",
     "output_type": "stream",
     "text": [
      "1\n",
      "2\n",
      "3\n",
      "4\n",
      "5\n",
      "6\n",
      "7\n",
      "8\n",
      "9\n",
      "10\n"
     ]
    }
   ],
   "source": [
    "a = 1\n",
    "while a <= 10:\n",
    "    print(a)\n",
    "    a=a+1"
   ]
  },
  {
   "cell_type": "markdown",
   "id": "5b9626d6",
   "metadata": {},
   "source": [
    "13. If you had a function named bacon() inside a module named spam, how would you call it after\n",
    "importing spam?"
   ]
  },
  {
   "cell_type": "markdown",
   "id": "84cd0f63",
   "metadata": {},
   "source": [
    "Ans : This function can be called with spam.bacon()."
   ]
  },
  {
   "cell_type": "code",
   "execution_count": null,
   "id": "64e276db",
   "metadata": {},
   "outputs": [],
   "source": []
  }
 ],
 "metadata": {
  "kernelspec": {
   "display_name": "Python 3 (ipykernel)",
   "language": "python",
   "name": "python3"
  },
  "language_info": {
   "codemirror_mode": {
    "name": "ipython",
    "version": 3
   },
   "file_extension": ".py",
   "mimetype": "text/x-python",
   "name": "python",
   "nbconvert_exporter": "python",
   "pygments_lexer": "ipython3",
   "version": "3.8.5"
  }
 },
 "nbformat": 4,
 "nbformat_minor": 5
}
