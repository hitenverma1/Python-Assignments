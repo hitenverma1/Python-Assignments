{
 "cells": [
  {
   "cell_type": "markdown",
   "id": "97a68922",
   "metadata": {},
   "source": [
    "Q-1. Write an SQL query to print the FIRST_NAME from Worker table after removing white spaces from the right side."
   ]
  },
  {
   "cell_type": "raw",
   "id": "0d0dbb74",
   "metadata": {},
   "source": [
    "Select RTRIM(FIRST_NAME) \n",
    "from Worker;\n"
   ]
  },
  {
   "cell_type": "markdown",
   "id": "2d370d0d",
   "metadata": {},
   "source": [
    "Q-2. Write an SQL query that fetches the unique values of DEPARTMENT from Worker table and prints its length."
   ]
  },
  {
   "cell_type": "raw",
   "id": "581ff1b1",
   "metadata": {},
   "source": [
    "select distinct First_name , length(First_name)\n",
    "from Workers;"
   ]
  },
  {
   "cell_type": "markdown",
   "id": "411b75d6",
   "metadata": {},
   "source": [
    "Q-3. Write an SQL query to fetch nth max salaries from a table."
   ]
  },
  {
   "cell_type": "raw",
   "id": "29ec5e1a",
   "metadata": {},
   "source": [
    "select SALARY\n",
    "from worker\n",
    "order by salary desc;"
   ]
  },
  {
   "cell_type": "code",
   "execution_count": null,
   "id": "93345d70",
   "metadata": {},
   "outputs": [],
   "source": []
  }
 ],
 "metadata": {
  "kernelspec": {
   "display_name": "Python 3",
   "language": "python",
   "name": "python3"
  },
  "language_info": {
   "codemirror_mode": {
    "name": "ipython",
    "version": 3
   },
   "file_extension": ".py",
   "mimetype": "text/x-python",
   "name": "python",
   "nbconvert_exporter": "python",
   "pygments_lexer": "ipython3",
   "version": "3.8.8"
  }
 },
 "nbformat": 4,
 "nbformat_minor": 5
}
