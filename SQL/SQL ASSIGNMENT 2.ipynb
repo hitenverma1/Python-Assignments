{
 "cells": [
  {
   "cell_type": "markdown",
   "id": "b0a1d1c9",
   "metadata": {},
   "source": [
    "-- Q-1. Write an SQL query to print the first three characters of  FIRST_NAME from Worker table."
   ]
  },
  {
   "cell_type": "raw",
   "id": "ffa4ba14",
   "metadata": {},
   "source": [
    "Select substring(FIRST_NAME,1,3) \n",
    "from Worker"
   ]
  },
  {
   "cell_type": "markdown",
   "id": "1fe86bce",
   "metadata": {},
   "source": [
    "-- Q-2. Write an SQL query to find the position of the alphabet (‘a’) in the first name column ‘Amitabh’ from Worker table."
   ]
  },
  {
   "cell_type": "raw",
   "id": "91306cf9",
   "metadata": {},
   "source": [
    "Select INSTR(FIRST_NAME, BINARY'a') as 'A-position'\n",
    "from Worker \n",
    "where FIRST_NAME = 'Amitabh';"
   ]
  },
  {
   "cell_type": "markdown",
   "id": "2d600885",
   "metadata": {},
   "source": [
    "-- Q-3. Write an SQL query to print the name of employees having the highest salary in each department"
   ]
  },
  {
   "cell_type": "raw",
   "id": "ade28df0",
   "metadata": {},
   "source": [
    "Select *\n",
    "from worker\n",
    "group by(DEPARTMENT)\n",
    "having max(SALARY);"
   ]
  },
  {
   "cell_type": "code",
   "execution_count": null,
   "id": "416dfa65",
   "metadata": {},
   "outputs": [],
   "source": []
  }
 ],
 "metadata": {
  "kernelspec": {
   "display_name": "Python 3",
   "language": "python",
   "name": "python3"
  },
  "language_info": {
   "codemirror_mode": {
    "name": "ipython",
    "version": 3
   },
   "file_extension": ".py",
   "mimetype": "text/x-python",
   "name": "python",
   "nbconvert_exporter": "python",
   "pygments_lexer": "ipython3",
   "version": "3.8.8"
  }
 },
 "nbformat": 4,
 "nbformat_minor": 5
}
