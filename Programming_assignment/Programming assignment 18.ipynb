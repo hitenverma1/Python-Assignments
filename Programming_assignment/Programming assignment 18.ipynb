{
 "cells": [
  {
   "cell_type": "code",
   "execution_count": 53,
   "metadata": {},
   "outputs": [
    {
     "data": {
      "text/plain": [
       "[1, 2, 3, 2, 3, 4, 5]"
      ]
     },
     "execution_count": 53,
     "metadata": {},
     "output_type": "execute_result"
    }
   ],
   "source": [
    "#Create a function that takes a list of non-negative integers and strings and return a new list without the strings.\n",
    "l=[1,2,3,\"mital\",\"mit\",2,3,4,5]\n",
    "def filter_list(l):\n",
    "    new_list=[]\n",
    "    for i in l:\n",
    "        if type(i)==str:\n",
    "            continue\n",
    "        else:\n",
    "            new_list.append(i)\n",
    "    return new_list\n",
    "\n",
    "filter_list(l)\n"
   ]
  },
  {
   "cell_type": "code",
   "execution_count": 63,
   "metadata": {},
   "outputs": [
    {
     "data": {
      "text/plain": [
       "'LITap LATIm'"
      ]
     },
     "execution_count": 63,
     "metadata": {},
     "output_type": "execute_result"
    }
   ],
   "source": [
    "#The \"Reverser\" takes a string as input and returns that string in reverse order, with the opposite case.\n",
    "s= \"Mital PAtil\"\n",
    "def reverser(s):\n",
    "    s=s[::-1]\n",
    "    s=s.swapcase()\n",
    "    return s\n",
    "\n",
    "reverser(s)   \n"
   ]
  },
  {
   "cell_type": "code",
   "execution_count": 69,
   "metadata": {},
   "outputs": [
    {
     "name": "stdout",
     "output_type": "stream",
     "text": [
      "1\n",
      "[2, 3, 'mital', 'mit', 2, 3, 4]\n",
      "5\n"
     ]
    }
   ],
   "source": [
    "#unpack the list writeyourcodehere into three variables, being first, middle, and last, with middle being everything in between the first and last element.\n",
    "#Then print all three variables.\n",
    "writeyourcodehere =[1,2,3,\"mital\",\"mit\",2,3,4,5]\n",
    "\n",
    "def first(x):\n",
    "    return x[0]\n",
    "\n",
    "def middle(x):\n",
    "    return x[1:-1]\n",
    "\n",
    "def last(x):\n",
    "    return x[-1]\n",
    "\n",
    "a= first(writeyourcodehere)\n",
    "b= middle(writeyourcodehere)\n",
    "c= last(writeyourcodehere)\n",
    "print(a)\n",
    "print(b)\n",
    "print(c)"
   ]
  },
  {
   "cell_type": "code",
   "execution_count": 70,
   "metadata": {},
   "outputs": [
    {
     "name": "stdout",
     "output_type": "stream",
     "text": [
      "The factorial of 10 is 3628800\n"
     ]
    }
   ],
   "source": [
    "#Write a function that calculates the factorial of a number recursively.\n",
    "\n",
    "def recur_factorial(n):\n",
    "    if n == 1:\n",
    "        return n\n",
    "    else:\n",
    "        return n*recur_factorial(n-1)\n",
    "\n",
    "num = 10\n",
    "\n",
    "# check if the number is negative\n",
    "if num < 0:\n",
    "   print(\"Sorry, factorial does not exist for negative numbers\")\n",
    "elif num == 0:\n",
    "   print(\"The factorial of 0 is 1\")\n",
    "else:\n",
    "   print(\"The factorial of\", num, \"is\", recur_factorial(num))"
   ]
  },
  {
   "cell_type": "code",
   "execution_count": 91,
   "metadata": {},
   "outputs": [
    {
     "name": "stdout",
     "output_type": "stream",
     "text": [
      "[1, 2, 3, 2, 3, 4, 5, 'mital', 'mit']\n"
     ]
    }
   ],
   "source": [
    "#Write a function that moves all elements of one type to the end of the list.\n",
    "def move_to_end(l):\n",
    "    list1=[]\n",
    "    list2=[]\n",
    "    for i in l:\n",
    "        if type(i)==int:\n",
    "            list1.append(i)\n",
    "        else:\n",
    "            list2.append(i)\n",
    "    move_to_end=list1+list2\n",
    "    return move_to_end\n",
    "\n",
    "l=[1,2,3,\"mital\",\"mit\",2,3,4,5]\n",
    "\n",
    "s=move_to_end(l)\n",
    "print(s)"
   ]
  },
  {
   "cell_type": "code",
   "execution_count": null,
   "metadata": {},
   "outputs": [],
   "source": []
  },
  {
   "cell_type": "code",
   "execution_count": null,
   "metadata": {},
   "outputs": [],
   "source": []
  },
  {
   "cell_type": "code",
   "execution_count": null,
   "metadata": {},
   "outputs": [],
   "source": []
  }
 ],
 "metadata": {
  "kernelspec": {
   "display_name": "Python 3",
   "language": "python",
   "name": "python3"
  },
  "language_info": {
   "codemirror_mode": {
    "name": "ipython",
    "version": 3
   },
   "file_extension": ".py",
   "mimetype": "text/x-python",
   "name": "python",
   "nbconvert_exporter": "python",
   "pygments_lexer": "ipython3",
   "version": "3.8.5"
  }
 },
 "nbformat": 4,
 "nbformat_minor": 4
}
