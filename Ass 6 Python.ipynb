{
 "cells": [
  {
   "cell_type": "markdown",
   "id": "0921317f",
   "metadata": {},
   "source": [
    "1. What are escape characters, and how do you use them?"
   ]
  },
  {
   "cell_type": "markdown",
   "id": "0e75925b",
   "metadata": {},
   "source": [
    "Ans : To insert characters that are illegal in a string, use an escape character.\n",
    "\n",
    "An escape character is a backslash \\ followed by the character we want to insert."
   ]
  },
  {
   "cell_type": "code",
   "execution_count": 1,
   "id": "147bb0cb",
   "metadata": {},
   "outputs": [
    {
     "data": {
      "text/plain": [
       "'Full Stack Data Science by \"Ineuron\" and Online Live classes.'"
      ]
     },
     "execution_count": 1,
     "metadata": {},
     "output_type": "execute_result"
    }
   ],
   "source": [
    "\"Full Stack Data Science by \\\"Ineuron\\\" and Online Live classes.\""
   ]
  },
  {
   "cell_type": "markdown",
   "id": "143ef487",
   "metadata": {},
   "source": [
    "2. What do the escape characters n and t stand for?"
   ]
  },
  {
   "cell_type": "markdown",
   "id": "7426ce58",
   "metadata": {},
   "source": [
    "Ans :  It is used in representing certain whitespace characters: \n",
    "\n",
    "\"\\t\" is a tab\n",
    "\n",
    "\"\\n\" is a newline"
   ]
  },
  {
   "cell_type": "markdown",
   "id": "0f586fef",
   "metadata": {},
   "source": [
    "3. What is the way to include backslash characters in a string?"
   ]
  },
  {
   "cell_type": "code",
   "execution_count": 2,
   "id": "7b9f68b2",
   "metadata": {},
   "outputs": [],
   "source": [
    "#Ans : We use the syntax \"\\\\\" within the string literal to represent a single backslash"
   ]
  },
  {
   "cell_type": "code",
   "execution_count": 3,
   "id": "775f3d65",
   "metadata": {},
   "outputs": [
    {
     "name": "stdout",
     "output_type": "stream",
     "text": [
      "\\\n"
     ]
    }
   ],
   "source": [
    "p =\"\\\\\"\n",
    "print(p)"
   ]
  },
  {
   "cell_type": "markdown",
   "id": "f180b851",
   "metadata": {},
   "source": [
    "4. The string \"Howl's Moving Castle\" is a correct value. Why isn't the single quote character in the word Howl's not escaped a problem?"
   ]
  },
  {
   "cell_type": "markdown",
   "id": "f0442809",
   "metadata": {},
   "source": [
    "Ans : The single quote in Howl's is fine because we have used double quotes to mark the beginning and end of the string."
   ]
  },
  {
   "cell_type": "markdown",
   "id": "66056364",
   "metadata": {},
   "source": [
    "5. How do you write a string of newlines if you don't want to use the n character?"
   ]
  },
  {
   "cell_type": "markdown",
   "id": "1e3d2017",
   "metadata": {},
   "source": [
    "Ans : Multiline strings allow you to use newlines in strings without the \\n escape character"
   ]
  },
  {
   "cell_type": "markdown",
   "id": "405d4e16",
   "metadata": {},
   "source": [
    "6. What are the values of the given expressions?\n",
    "'Hello, world!'[1]\n",
    "'Hello, world!'[0:5]\n",
    "'Hello, world!'[:5]\n",
    "'Hello, world!'[3:]"
   ]
  },
  {
   "cell_type": "markdown",
   "id": "978ea3e0",
   "metadata": {},
   "source": [
    "Ans : \n",
    "1. 'e'\n",
    "2. 'Hello'\n",
    "3. 'Hello'\n",
    "4. 'lo, world!'"
   ]
  },
  {
   "cell_type": "code",
   "execution_count": 4,
   "id": "65538633",
   "metadata": {},
   "outputs": [
    {
     "data": {
      "text/plain": [
       "'e'"
      ]
     },
     "execution_count": 4,
     "metadata": {},
     "output_type": "execute_result"
    }
   ],
   "source": [
    "'Hello, world!'[1]"
   ]
  },
  {
   "cell_type": "code",
   "execution_count": 5,
   "id": "498f73d5",
   "metadata": {},
   "outputs": [
    {
     "data": {
      "text/plain": [
       "'Hello'"
      ]
     },
     "execution_count": 5,
     "metadata": {},
     "output_type": "execute_result"
    }
   ],
   "source": [
    " 'Hello, world!'[0:5] "
   ]
  },
  {
   "cell_type": "code",
   "execution_count": 6,
   "id": "73b4d929",
   "metadata": {},
   "outputs": [
    {
     "data": {
      "text/plain": [
       "'Hello'"
      ]
     },
     "execution_count": 6,
     "metadata": {},
     "output_type": "execute_result"
    }
   ],
   "source": [
    "'Hello, world!'[:5]"
   ]
  },
  {
   "cell_type": "code",
   "execution_count": 7,
   "id": "325b515d",
   "metadata": {},
   "outputs": [
    {
     "data": {
      "text/plain": [
       "'lo, world!'"
      ]
     },
     "execution_count": 7,
     "metadata": {},
     "output_type": "execute_result"
    }
   ],
   "source": [
    "'Hello, world!'[3:]"
   ]
  },
  {
   "cell_type": "markdown",
   "id": "051d1cdc",
   "metadata": {},
   "source": [
    "7. What are the values of the following expressions?\n",
    "'Hello'.upper()\n",
    "'Hello'.upper().isupper()\n",
    "'Hello'.upper().lower()"
   ]
  },
  {
   "cell_type": "markdown",
   "id": "2e3feaf9",
   "metadata": {},
   "source": [
    "Ans : 1. 'HELLO'\n",
    "\n",
    "2. True\n",
    " \n",
    "3. 'hello'"
   ]
  },
  {
   "cell_type": "code",
   "execution_count": 8,
   "id": "4325bb9d",
   "metadata": {},
   "outputs": [
    {
     "data": {
      "text/plain": [
       "'HELLO'"
      ]
     },
     "execution_count": 8,
     "metadata": {},
     "output_type": "execute_result"
    }
   ],
   "source": [
    " 'Hello'.upper() "
   ]
  },
  {
   "cell_type": "code",
   "execution_count": 9,
   "id": "f044a35a",
   "metadata": {},
   "outputs": [
    {
     "data": {
      "text/plain": [
       "True"
      ]
     },
     "execution_count": 9,
     "metadata": {},
     "output_type": "execute_result"
    }
   ],
   "source": [
    "'Hello'.upper().isupper() "
   ]
  },
  {
   "cell_type": "code",
   "execution_count": 10,
   "id": "11087344",
   "metadata": {},
   "outputs": [
    {
     "data": {
      "text/plain": [
       "'hello'"
      ]
     },
     "execution_count": 10,
     "metadata": {},
     "output_type": "execute_result"
    }
   ],
   "source": [
    "'Hello'.upper().lower()"
   ]
  },
  {
   "cell_type": "markdown",
   "id": "cae2d20d",
   "metadata": {},
   "source": [
    "8. What are the values of the following expressions?\n",
    "'Remember, remember, the fifth of July.'.split()\n",
    "'-'.join('There can only one.'.split())"
   ]
  },
  {
   "cell_type": "markdown",
   "id": "bc4356c8",
   "metadata": {},
   "source": [
    "Ans : 1. ['Remember,', 'remember,', 'the', 'fifth', 'of', 'July.']\n",
    "\n",
    "2. 'There-can-only-one.'"
   ]
  },
  {
   "cell_type": "code",
   "execution_count": 11,
   "id": "5826cf6e",
   "metadata": {},
   "outputs": [
    {
     "data": {
      "text/plain": [
       "['Remember,', 'remember,', 'the', 'fifth', 'of', 'July.']"
      ]
     },
     "execution_count": 11,
     "metadata": {},
     "output_type": "execute_result"
    }
   ],
   "source": [
    " 'Remember, remember, the fifth of July.'.split()"
   ]
  },
  {
   "cell_type": "code",
   "execution_count": 12,
   "id": "2e835ed5",
   "metadata": {},
   "outputs": [
    {
     "data": {
      "text/plain": [
       "'There-can-only-one.'"
      ]
     },
     "execution_count": 12,
     "metadata": {},
     "output_type": "execute_result"
    }
   ],
   "source": [
    " '-'.join('There can only one.'.split())"
   ]
  },
  {
   "cell_type": "markdown",
   "id": "d58111cf",
   "metadata": {},
   "source": [
    "9. What are the methods for right-justifying, left-justifying, and centering a string?"
   ]
  },
  {
   "cell_type": "markdown",
   "id": "aa3e5456",
   "metadata": {},
   "source": [
    "Ans: The rjust(), ljust(), and center() string methods, respectively"
   ]
  },
  {
   "cell_type": "code",
   "execution_count": 13,
   "id": "c272145c",
   "metadata": {},
   "outputs": [],
   "source": [
    "l = \"hiten\""
   ]
  },
  {
   "cell_type": "code",
   "execution_count": 14,
   "id": "67fd6587",
   "metadata": {},
   "outputs": [
    {
     "data": {
      "text/plain": [
       "'*********hiten'"
      ]
     },
     "execution_count": 14,
     "metadata": {},
     "output_type": "execute_result"
    }
   ],
   "source": [
    "l.rjust(14,\"*\")"
   ]
  },
  {
   "cell_type": "code",
   "execution_count": 15,
   "id": "046905ba",
   "metadata": {},
   "outputs": [
    {
     "data": {
      "text/plain": [
       "'hiten*********'"
      ]
     },
     "execution_count": 15,
     "metadata": {},
     "output_type": "execute_result"
    }
   ],
   "source": [
    "l.ljust(14,\"*\")"
   ]
  },
  {
   "cell_type": "code",
   "execution_count": 16,
   "id": "f0dace3f",
   "metadata": {},
   "outputs": [
    {
     "data": {
      "text/plain": [
       "'*****hiten******'"
      ]
     },
     "execution_count": 16,
     "metadata": {},
     "output_type": "execute_result"
    }
   ],
   "source": [
    "l.center(16,\"*\")"
   ]
  },
  {
   "cell_type": "markdown",
   "id": "a0d036d4",
   "metadata": {},
   "source": [
    "10. What is the best way to remove whitespace characters from the start or end?"
   ]
  },
  {
   "cell_type": "markdown",
   "id": "4199ec91",
   "metadata": {},
   "source": [
    "Ans : The lstrip() and rstrip() methods remove whitespace from the left and right ends of a string, respectively."
   ]
  }
 ],
 "metadata": {
  "kernelspec": {
   "display_name": "Python 3 (ipykernel)",
   "language": "python",
   "name": "python3"
  },
  "language_info": {
   "codemirror_mode": {
    "name": "ipython",
    "version": 3
   },
   "file_extension": ".py",
   "mimetype": "text/x-python",
   "name": "python",
   "nbconvert_exporter": "python",
   "pygments_lexer": "ipython3",
   "version": "3.8.5"
  }
 },
 "nbformat": 4,
 "nbformat_minor": 5
}
