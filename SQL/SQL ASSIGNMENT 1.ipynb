{
 "cells": [
  {
   "cell_type": "raw",
   "id": "b03dbd0c",
   "metadata": {},
   "source": [
    "-- Q-1. Write an SQL query to fetch “FIRST_NAME” from Worker table using the alias name as <WORKER_NAME>.\n",
    "SELECT FIRST_NAME AS WORKER_NAME\n",
    "FROM WORKER;\n",
    "\n",
    "-- Q-2. Write an SQL query to fetch unique values of DEPARTMENT from Worker table.\n",
    "SELECT DISTINCT DEPARTMENT\n",
    "FROM WORKER;\n",
    "\n",
    "-- Q-3. Write an SQL query to show the last 5 record from a table.\n",
    "SELECT * FROM WORKER \n",
    "ORDER BY WORKER_ID DESC LIMIT 5;"
   ]
  }
 ],
 "metadata": {
  "kernelspec": {
   "display_name": "Python 3",
   "language": "python",
   "name": "python3"
  },
  "language_info": {
   "codemirror_mode": {
    "name": "ipython",
    "version": 3
   },
   "file_extension": ".py",
   "mimetype": "text/x-python",
   "name": "python",
   "nbconvert_exporter": "python",
   "pygments_lexer": "ipython3",
   "version": "3.8.8"
  }
 },
 "nbformat": 4,
 "nbformat_minor": 5
}
